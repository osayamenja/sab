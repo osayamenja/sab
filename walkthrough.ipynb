{
 "cells": [
  {
   "cell_type": "markdown",
   "id": "20a2bc5e84cae554",
   "metadata": {},
   "source": [
    "# Scalable Analysis of Bayesian Networks"
   ]
  },
  {
   "cell_type": "markdown",
   "id": "d84f6641979d24",
   "metadata": {},
   "source": [
    "We run experiments on some sample topologies."
   ]
  },
  {
   "cell_type": "code",
   "id": "29a6b1d562f71810",
   "metadata": {
    "ExecuteTime": {
     "end_time": "2025-04-30T15:29:16.101282Z",
     "start_time": "2025-04-30T15:29:16.096712Z"
    }
   },
   "source": [
    "import concurrent.futures\n",
    "import gc\n",
    "import os\n",
    "import logging\n",
    "import threading\n",
    "import time\n",
    "\n",
    "import networkx as nx\n",
    "import matplotlib.pyplot as plt\n",
    "import numpy as np\n",
    "import pandas as pd\n",
    "\n",
    "from causalnex.structure.notears import from_pandas\n",
    "from causalnex.structure import StructureModel\n",
    "from networkx.classes import DiGraph\n",
    "from sklearn.preprocessing import LabelEncoder\n",
    "from typing import List, Tuple, Dict\n",
    "from main import labeler"
   ],
   "outputs": [],
   "execution_count": 40
  },
  {
   "metadata": {},
   "cell_type": "markdown",
   "source": "# SAB Pipeline",
   "id": "e7b344ea87cd571"
  },
  {
   "metadata": {
    "ExecuteTime": {
     "end_time": "2025-04-30T16:10:14.106396Z",
     "start_time": "2025-04-30T16:10:14.094840Z"
    }
   },
   "cell_type": "code",
   "source": [
    "class TopologyLabel:\n",
    "    def __init__(self, nid: int, collider=False, chain=False, fork=False):\n",
    "        self.nid : int = nid\n",
    "        self.collider : bool = collider\n",
    "        self.chain : bool = chain\n",
    "        self.fork : bool = fork\n",
    "\n",
    "    def __str__(self):\n",
    "        return (f\"{self.nid}: {{collider = {self.collider}, chain = {self.chain}, \"\n",
    "                f\"fork = {self.fork}}}\")\n",
    "\n",
    "    def __repr__(self):\n",
    "        return str(self)\n",
    "\n",
    "def is_csv_file(file_path):\n",
    "  return os.path.splitext(file_path)[1].lower() == '.csv'\n",
    "\n",
    "def preprocessor(dataset: str) -> Tuple[StructureModel, float, float, float]:\n",
    "    assert is_csv_file(dataset)\n",
    "    start = time.perf_counter()\n",
    "    data_pd = pd.read_csv(dataset)\n",
    "    io_time = time.perf_counter() - start\n",
    "\n",
    "    start = time.perf_counter()\n",
    "    non_numeric_columns = list(data_pd.select_dtypes(exclude=[np.number]).columns)\n",
    "    le = LabelEncoder()\n",
    "\n",
    "    for col in non_numeric_columns:\n",
    "        data_pd[col] = le.fit_transform(data_pd[col])\n",
    "    enc_time = time.perf_counter() - start\n",
    "\n",
    "    start = time.perf_counter()\n",
    "    s_model = from_pandas(data_pd, w_threshold=0.8)\n",
    "    nt_time = time.perf_counter() - start\n",
    "    return s_model, io_time, enc_time, nt_time\n",
    "\n",
    "def relabel(s_model: StructureModel) -> Tuple[DiGraph, List[int]]:\n",
    "    mapping = dict()\n",
    "    inv_mapping = []\n",
    "    label = 0\n",
    "    s = sorted(s_model.nodes)\n",
    "    for s_node in s:\n",
    "        mapping[s_node] = label\n",
    "        label += 1\n",
    "        inv_mapping.append(s_node)\n",
    "    return nx.relabel_nodes(s_model, mapping), inv_mapping\n",
    "\n",
    "def sab_threaded(dag: DiGraph, result : Dict[str, TopologyLabel], tid: int, n_threads: int) -> None:\n",
    "    idx = tid\n",
    "    n_nodes = len(dag.nodes)\n",
    "    nodes = list(dag.nodes)\n",
    "    while idx < n_nodes:\n",
    "        v = nodes[idx]\n",
    "        i_d = dag.in_degree(v)\n",
    "        o_d = dag.out_degree(v)\n",
    "        if i_d > 1:\n",
    "            result[v].collider = True\n",
    "        elif i_d == 1 and o_d >= 1:\n",
    "            result[v].chain = True\n",
    "        if o_d > 1:\n",
    "            result[v].fork = True\n",
    "        idx += n_threads\n",
    "\n",
    "def sab_core(dag: DiGraph, parallel=False) -> Tuple[Dict[str, TopologyLabel], float]:\n",
    "    start = time.perf_counter()\n",
    "    assert nx.is_directed_acyclic_graph(dag)\n",
    "    result : Dict[str, TopologyLabel] = {}\n",
    "    for v in dag.nodes:\n",
    "        result[v] = TopologyLabel(v)\n",
    "\n",
    "    if not parallel:\n",
    "        sab_threaded(dag, result, 0, 1)\n",
    "    else:\n",
    "        num_threads = min(8, len(dag.nodes))\n",
    "        with concurrent.futures.ThreadPoolExecutor(max_workers=num_threads) as sab_executor:\n",
    "            for tid in range(num_threads):\n",
    "                sab_executor.submit(sab_threaded, dag, result, tid, num_threads)\n",
    "    alg_time = time.perf_counter() - start\n",
    "    return result, alg_time\n",
    "\n",
    "def sab(dataset: str, parallel=False) -> Tuple[Dict[str, TopologyLabel], float, float, float, float]:\n",
    "    # preprocessing\n",
    "    assert is_csv_file(dataset) and os.path.exists(dataset)\n",
    "    dag, io_time, enc_time, nt_time = preprocessor(dataset)\n",
    "    result, alg_time = sab_core(dag, parallel)\n",
    "    return result, io_time, enc_time, nt_time, alg_time"
   ],
   "id": "b26a1b26ec137191",
   "outputs": [],
   "execution_count": 80
  },
  {
   "cell_type": "markdown",
   "id": "35a88b1f2c508695",
   "metadata": {},
   "source": [
    "## Notation for Adjacency Matrix\n",
    "Below, the adjacency matrix describes the causal DAG $G = (V, E)$, where for any row index $i \\in V$ and column index $j \\in V$,\n",
    "the tuple $(i,j) = 1$ denotes a directed edge from vertex $i$ to vertex $j$."
   ]
  },
  {
   "cell_type": "markdown",
   "id": "d521ad16921738a1",
   "metadata": {},
   "source": [
    "## Chain"
   ]
  },
  {
   "cell_type": "code",
   "execution_count": 42,
   "id": "53eba65796cb7910",
   "metadata": {
    "ExecuteTime": {
     "end_time": "2025-04-04T01:46:29.955718Z",
     "start_time": "2025-04-04T01:46:29.952963Z"
    }
   },
   "outputs": [
    {
     "name": "stdout",
     "output_type": "stream",
     "text": [
      "Completes in 48.207999498117715us\n",
      "[0: {collider = False, chain = False, fork = False}, 1: {collider = False, chain = True, fork = False}, 2: {collider = False, chain = False, fork = False}]\n"
     ]
    }
   ],
   "source": [
    "# 0 -> 1 -> 2\n",
    "start_time = time.perf_counter()\n",
    "chain_adj = np.array([[0, 1, 0], [0, 0, 1], [0, 0, 0]])\n",
    "end_time = time.perf_counter()\n",
    "duration = (end_time - start_time) * 10e5\n",
    "print(\"Completes in {}us\".format(duration))\n",
    "print(labeler(chain_adj))"
   ]
  },
  {
   "cell_type": "markdown",
   "id": "3b2f5f7f358fa157",
   "metadata": {},
   "source": [
    "As expected, we see from the output above that node $1$ is correctly marked as being in a chain."
   ]
  },
  {
   "cell_type": "markdown",
   "id": "98c842a3f188e83c",
   "metadata": {},
   "source": [
    "## Collider"
   ]
  },
  {
   "cell_type": "code",
   "execution_count": 40,
   "id": "f99d04a91632be80",
   "metadata": {
    "ExecuteTime": {
     "end_time": "2025-04-04T01:46:26.900279Z",
     "start_time": "2025-04-04T01:46:26.896958Z"
    }
   },
   "outputs": [
    {
     "name": "stdout",
     "output_type": "stream",
     "text": [
      "Completes in 53.250005294103175us\n",
      "[0: {collider = False, chain = False, fork = False}, 1: {collider = True, chain = False, fork = False}, 2: {collider = False, chain = False, fork = False}]\n"
     ]
    }
   ],
   "source": [
    "# 0 -> 1 <- 2\n",
    "start_time = time.perf_counter()\n",
    "collider_adj = np.array([[0, 1, 0], [0, 0, 0], [0, 1, 0]])\n",
    "end_time = time.perf_counter()\n",
    "duration = (end_time - start_time) * 10e5\n",
    "print(\"Completes in {}us\".format(duration))\n",
    "print(labeler(collider_adj))"
   ]
  },
  {
   "cell_type": "markdown",
   "id": "539d5138e15a10a5",
   "metadata": {},
   "source": [
    "## Fork"
   ]
  },
  {
   "cell_type": "code",
   "execution_count": 38,
   "id": "a16088c0a6a090a9",
   "metadata": {
    "ExecuteTime": {
     "end_time": "2025-04-04T01:46:22.463733Z",
     "start_time": "2025-04-04T01:46:22.461090Z"
    }
   },
   "outputs": [
    {
     "name": "stdout",
     "output_type": "stream",
     "text": [
      "Completes in 47.74999979417771us\n",
      "[0: {collider = False, chain = False, fork = True}, 1: {collider = False, chain = False, fork = False}, 2: {collider = False, chain = False, fork = False}]\n"
     ]
    }
   ],
   "source": [
    "# 0 -> 1\n",
    "# 0 -> 2\n",
    "start_time = time.perf_counter()\n",
    "fork_adj = np.array([[0, 1, 1], [0, 0, 0], [0, 0, 0]])\n",
    "end_time = time.perf_counter()\n",
    "duration = (end_time - start_time) * 10e5\n",
    "print(\"Completes in {}us\".format(duration))\n",
    "print(labeler(fork_adj))"
   ]
  },
  {
   "cell_type": "markdown",
   "id": "33785753ebd32474",
   "metadata": {},
   "source": [
    "## CSuite large_backdoor_binary_t\n",
    "The below is adapted from the CSuite dataset by [Geffner et. al](https://github.com/microsoft/csuite?tab=readme-ov-file)\n",
    "![alt text](figs/sab.png \"CSuite large_backdoor\")"
   ]
  },
  {
   "cell_type": "code",
   "execution_count": 44,
   "id": "7f5455dafa3d7a95",
   "metadata": {
    "ExecuteTime": {
     "end_time": "2025-04-04T01:46:33.873996Z",
     "start_time": "2025-04-04T01:46:33.871094Z"
    }
   },
   "outputs": [
    {
     "name": "stdout",
     "output_type": "stream",
     "text": [
      "Completes in 63.041996327228844us\n",
      "[0: {collider = False, chain = False, fork = True}, 1: {collider = False, chain = True, fork = False}, 2: {collider = False, chain = True, fork = False}, 3: {collider = False, chain = True, fork = False}, 4: {collider = True, chain = False, fork = False}]\n"
     ]
    }
   ],
   "source": [
    "start_time = time.perf_counter()\n",
    "backdoor_adj = np.array([[0, 1, 0, 1, 0], [0, 0, 1, 0, 0], [0, 0, 0, 0, 1], [0, 0, 0, 0, 1], [0, 0, 0, 0, 0]])\n",
    "end_time = time.perf_counter()\n",
    "duration = (end_time - start_time) * 10e5\n",
    "print(\"Completes in {}us\".format(duration))\n",
    "print(labeler(backdoor_adj))"
   ]
  },
  {
   "cell_type": "markdown",
   "id": "2cba4c0feada1176",
   "metadata": {},
   "source": [
    "## Pipeline"
   ]
  },
  {
   "cell_type": "code",
   "id": "c4e11047e0d1e24f",
   "metadata": {
    "ExecuteTime": {
     "end_time": "2025-04-30T16:10:52.791518Z",
     "start_time": "2025-04-30T16:10:52.770100Z"
    }
   },
   "source": [
    "d_str = \"datasets/student-por.csv\"\n",
    "data = pd.read_csv('datasets/student-por.csv')\n",
    "drop_col = ['school','sex','age','Mjob', 'Fjob','reason','guardian']\n",
    "data = data.drop(columns=drop_col)\n",
    "data.head(5)"
   ],
   "outputs": [
    {
     "data": {
      "text/plain": [
       "  address famsize Pstatus  Medu  Fedu  traveltime  studytime  failures  \\\n",
       "0       U     GT3       A     4     4           2          2         0   \n",
       "1       U     GT3       T     1     1           1          2         0   \n",
       "2       U     LE3       T     1     1           1          2         0   \n",
       "3       U     GT3       T     4     2           1          3         0   \n",
       "4       U     GT3       T     3     3           1          2         0   \n",
       "\n",
       "  schoolsup famsup  ... famrel freetime goout Dalc Walc health  absences  G1  \\\n",
       "0       yes     no  ...      4        3     4    1    1      3         4   0   \n",
       "1        no    yes  ...      5        3     3    1    1      3         2   9   \n",
       "2       yes     no  ...      4        3     2    2    3      3         6  12   \n",
       "3        no    yes  ...      3        2     2    1    1      5         0  14   \n",
       "4        no    yes  ...      4        3     2    1    2      5         0  11   \n",
       "\n",
       "   G2  G3  \n",
       "0  11  11  \n",
       "1  11  11  \n",
       "2  13  12  \n",
       "3  14  14  \n",
       "4  13  13  \n",
       "\n",
       "[5 rows x 26 columns]"
      ],
      "text/html": [
       "<div>\n",
       "<style scoped>\n",
       "    .dataframe tbody tr th:only-of-type {\n",
       "        vertical-align: middle;\n",
       "    }\n",
       "\n",
       "    .dataframe tbody tr th {\n",
       "        vertical-align: top;\n",
       "    }\n",
       "\n",
       "    .dataframe thead th {\n",
       "        text-align: right;\n",
       "    }\n",
       "</style>\n",
       "<table border=\"1\" class=\"dataframe\">\n",
       "  <thead>\n",
       "    <tr style=\"text-align: right;\">\n",
       "      <th></th>\n",
       "      <th>address</th>\n",
       "      <th>famsize</th>\n",
       "      <th>Pstatus</th>\n",
       "      <th>Medu</th>\n",
       "      <th>Fedu</th>\n",
       "      <th>traveltime</th>\n",
       "      <th>studytime</th>\n",
       "      <th>failures</th>\n",
       "      <th>schoolsup</th>\n",
       "      <th>famsup</th>\n",
       "      <th>...</th>\n",
       "      <th>famrel</th>\n",
       "      <th>freetime</th>\n",
       "      <th>goout</th>\n",
       "      <th>Dalc</th>\n",
       "      <th>Walc</th>\n",
       "      <th>health</th>\n",
       "      <th>absences</th>\n",
       "      <th>G1</th>\n",
       "      <th>G2</th>\n",
       "      <th>G3</th>\n",
       "    </tr>\n",
       "  </thead>\n",
       "  <tbody>\n",
       "    <tr>\n",
       "      <th>0</th>\n",
       "      <td>U</td>\n",
       "      <td>GT3</td>\n",
       "      <td>A</td>\n",
       "      <td>4</td>\n",
       "      <td>4</td>\n",
       "      <td>2</td>\n",
       "      <td>2</td>\n",
       "      <td>0</td>\n",
       "      <td>yes</td>\n",
       "      <td>no</td>\n",
       "      <td>...</td>\n",
       "      <td>4</td>\n",
       "      <td>3</td>\n",
       "      <td>4</td>\n",
       "      <td>1</td>\n",
       "      <td>1</td>\n",
       "      <td>3</td>\n",
       "      <td>4</td>\n",
       "      <td>0</td>\n",
       "      <td>11</td>\n",
       "      <td>11</td>\n",
       "    </tr>\n",
       "    <tr>\n",
       "      <th>1</th>\n",
       "      <td>U</td>\n",
       "      <td>GT3</td>\n",
       "      <td>T</td>\n",
       "      <td>1</td>\n",
       "      <td>1</td>\n",
       "      <td>1</td>\n",
       "      <td>2</td>\n",
       "      <td>0</td>\n",
       "      <td>no</td>\n",
       "      <td>yes</td>\n",
       "      <td>...</td>\n",
       "      <td>5</td>\n",
       "      <td>3</td>\n",
       "      <td>3</td>\n",
       "      <td>1</td>\n",
       "      <td>1</td>\n",
       "      <td>3</td>\n",
       "      <td>2</td>\n",
       "      <td>9</td>\n",
       "      <td>11</td>\n",
       "      <td>11</td>\n",
       "    </tr>\n",
       "    <tr>\n",
       "      <th>2</th>\n",
       "      <td>U</td>\n",
       "      <td>LE3</td>\n",
       "      <td>T</td>\n",
       "      <td>1</td>\n",
       "      <td>1</td>\n",
       "      <td>1</td>\n",
       "      <td>2</td>\n",
       "      <td>0</td>\n",
       "      <td>yes</td>\n",
       "      <td>no</td>\n",
       "      <td>...</td>\n",
       "      <td>4</td>\n",
       "      <td>3</td>\n",
       "      <td>2</td>\n",
       "      <td>2</td>\n",
       "      <td>3</td>\n",
       "      <td>3</td>\n",
       "      <td>6</td>\n",
       "      <td>12</td>\n",
       "      <td>13</td>\n",
       "      <td>12</td>\n",
       "    </tr>\n",
       "    <tr>\n",
       "      <th>3</th>\n",
       "      <td>U</td>\n",
       "      <td>GT3</td>\n",
       "      <td>T</td>\n",
       "      <td>4</td>\n",
       "      <td>2</td>\n",
       "      <td>1</td>\n",
       "      <td>3</td>\n",
       "      <td>0</td>\n",
       "      <td>no</td>\n",
       "      <td>yes</td>\n",
       "      <td>...</td>\n",
       "      <td>3</td>\n",
       "      <td>2</td>\n",
       "      <td>2</td>\n",
       "      <td>1</td>\n",
       "      <td>1</td>\n",
       "      <td>5</td>\n",
       "      <td>0</td>\n",
       "      <td>14</td>\n",
       "      <td>14</td>\n",
       "      <td>14</td>\n",
       "    </tr>\n",
       "    <tr>\n",
       "      <th>4</th>\n",
       "      <td>U</td>\n",
       "      <td>GT3</td>\n",
       "      <td>T</td>\n",
       "      <td>3</td>\n",
       "      <td>3</td>\n",
       "      <td>1</td>\n",
       "      <td>2</td>\n",
       "      <td>0</td>\n",
       "      <td>no</td>\n",
       "      <td>yes</td>\n",
       "      <td>...</td>\n",
       "      <td>4</td>\n",
       "      <td>3</td>\n",
       "      <td>2</td>\n",
       "      <td>1</td>\n",
       "      <td>2</td>\n",
       "      <td>5</td>\n",
       "      <td>0</td>\n",
       "      <td>11</td>\n",
       "      <td>13</td>\n",
       "      <td>13</td>\n",
       "    </tr>\n",
       "  </tbody>\n",
       "</table>\n",
       "<p>5 rows × 26 columns</p>\n",
       "</div>"
      ]
     },
     "execution_count": 82,
     "metadata": {},
     "output_type": "execute_result"
    }
   ],
   "execution_count": 82
  },
  {
   "metadata": {
    "ExecuteTime": {
     "end_time": "2025-04-30T14:37:24.736804Z",
     "start_time": "2025-04-30T14:36:59.279687Z"
    }
   },
   "cell_type": "code",
   "source": "psm, io_t, enc_t, nt_t = preprocessor(d_str)",
   "id": "3fb605377c4ef6c9",
   "outputs": [],
   "execution_count": 8
  },
  {
   "metadata": {},
   "cell_type": "markdown",
   "source": "# Evaluation",
   "id": "d3d5e5afe73f594"
  },
  {
   "metadata": {
    "ExecuteTime": {
     "end_time": "2025-04-30T16:10:58.507563Z",
     "start_time": "2025-04-30T16:10:58.502808Z"
    }
   },
   "cell_type": "code",
   "source": [
    "d = nx.from_numpy_array(np.array([[0, 1, 0, 1, 0], [0, 0, 1, 0, 0], [0, 0, 0, 0, 1], [0, 0, 0, 0, 1], [0, 0, 0, 0, 0]]))\n",
    "G = nx.DiGraph()\n",
    "G.add_edges_from(d.edges)\n",
    "print(G.edges)"
   ],
   "id": "a4295f79b48c5b64",
   "outputs": [
    {
     "name": "stdout",
     "output_type": "stream",
     "text": [
      "[(0, 1), (0, 3), (1, 2), (3, 4), (2, 4)]\n"
     ]
    }
   ],
   "execution_count": 83
  },
  {
   "metadata": {},
   "cell_type": "markdown",
   "source": "## Student Performance Math",
   "id": "f2695b6439f4447a"
  },
  {
   "metadata": {
    "ExecuteTime": {
     "end_time": "2025-04-30T16:55:26.818040Z",
     "start_time": "2025-04-30T16:54:14.980218Z"
    }
   },
   "cell_type": "code",
   "source": [
    "d_str = \"datasets/Math-Students.csv\"\n",
    "_, i_t, e_t, n_t, a_t = sab(d_str)\n",
    "print(i_t, e_t, n_t, a_t)\n",
    "_, i_t, e_t, n_t, a_t = sab(d_str, parallel=True)\n",
    "print(i_t, e_t, n_t, a_t)"
   ],
   "id": "19da470499d5b046",
   "outputs": [
    {
     "name": "stdout",
     "output_type": "stream",
     "text": [
      "0.004435083999851486 0.003870624999763095 36.14977395800088 8.420899939665105e-05\n",
      "0.0029369579988269834 0.0024055829999269918 35.653826583999034 0.0010339590007788502\n"
     ]
    }
   ],
   "execution_count": 87
  },
  {
   "metadata": {
    "ExecuteTime": {
     "end_time": "2025-04-30T17:03:58.610536Z",
     "start_time": "2025-04-30T17:03:47.645274Z"
    }
   },
   "cell_type": "code",
   "source": [
    "d_str = \"datasets/heart_cleveland_upload.csv\"\n",
    "_, i_t, e_t, n_t, a_t = sab(d_str)\n",
    "print(i_t, e_t, n_t, a_t)\n",
    "_, i_t, e_t, n_t, a_t = sab(d_str, parallel=True)\n",
    "print(i_t, e_t, n_t, a_t)"
   ],
   "id": "bfec349b27bee067",
   "outputs": [
    {
     "name": "stdout",
     "output_type": "stream",
     "text": [
      "0.002411458999631577 5.158300155017059e-05 5.499184583000897 5.504200089490041e-05\n",
      "0.0010653750014171237 3.1207999199978076e-05 5.459357583000383 0.00043650000043271575\n"
     ]
    }
   ],
   "execution_count": 89
  },
  {
   "metadata": {},
   "cell_type": "code",
   "outputs": [],
   "execution_count": null,
   "source": [
    "d_str = \"datasets/heart_cleveland_upload.csv\"\n",
    "_, i_t, e_t, n_t, a_t = sab(d_str)\n",
    "print(i_t, e_t, n_t, a_t)\n",
    "_, i_t, e_t, n_t, a_t = sab(d_str, parallel=True)\n",
    "print(i_t, e_t, n_t, a_t)"
   ],
   "id": "fa38f86b01c4f366"
  },
  {
   "metadata": {
    "ExecuteTime": {
     "end_time": "2025-04-30T17:24:43.454867Z",
     "start_time": "2025-04-30T17:24:29.299587Z"
    }
   },
   "cell_type": "code",
   "source": [
    "nd = 4 * 1024\n",
    "d = np.tril(np.ones((nd, nd), dtype=int), -1)\n",
    "dg = nx.from_numpy_array(d)\n",
    "G = nx.DiGraph()\n",
    "G.add_edges_from(dg.edges)"
   ],
   "id": "ee01de7f6988144d",
   "outputs": [],
   "execution_count": 107
  },
  {
   "metadata": {
    "ExecuteTime": {
     "end_time": "2025-04-30T17:24:48.045839Z",
     "start_time": "2025-04-30T17:24:45.988062Z"
    }
   },
   "cell_type": "code",
   "source": [
    "r, alg_t = sab_core(G)\n",
    "print(alg_t)\n",
    "r, alg_t = sab_core(G, parallel=True)\n",
    "print(alg_t)"
   ],
   "id": "900b72849eecbd6e",
   "outputs": [
    {
     "name": "stdout",
     "output_type": "stream",
     "text": [
      "1.0972462919999089\n",
      "0.9575762500007841\n"
     ]
    }
   ],
   "execution_count": 108
  }
 ],
 "metadata": {
  "kernelspec": {
   "display_name": "sab",
   "language": "python",
   "name": "sab"
  },
  "language_info": {
   "codemirror_mode": {
    "name": "ipython",
    "version": 3
   },
   "file_extension": ".py",
   "mimetype": "text/x-python",
   "name": "python",
   "nbconvert_exporter": "python",
   "pygments_lexer": "ipython3",
   "version": "3.10.17"
  }
 },
 "nbformat": 4,
 "nbformat_minor": 5
}
