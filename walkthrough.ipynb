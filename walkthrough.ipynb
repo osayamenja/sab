{
 "cells": [
  {
   "metadata": {},
   "cell_type": "markdown",
   "source": "# Scalable Analysis of Bayesian Networks",
   "id": "20a2bc5e84cae554"
  },
  {
   "metadata": {},
   "cell_type": "markdown",
   "source": "We run experiments on some sample topologies.",
   "id": "d84f6641979d24"
  },
  {
   "metadata": {
    "ExecuteTime": {
     "end_time": "2025-04-04T01:37:48.801932Z",
     "start_time": "2025-04-04T01:37:48.799882Z"
    }
   },
   "cell_type": "code",
   "source": [
    "import gc\n",
    "import time\n",
    "import numpy as np\n",
    "\n",
    "from main import labeler"
   ],
   "id": "29a6b1d562f71810",
   "outputs": [],
   "execution_count": 3
  },
  {
   "metadata": {},
   "cell_type": "markdown",
   "source": [
    "## Notation for Adjacency Matrix\n",
    "Below, the adjacency matrix describes the causal DAG $G = (V, E)$, where for any row index $i \\in V$ and column index $j \\in V$,\n",
    "the tuple $(i,j) = 1$ denotes a directed edge from vertex $i$ to vertex $j$."
   ],
   "id": "35a88b1f2c508695"
  },
  {
   "metadata": {},
   "cell_type": "markdown",
   "source": "## Chain",
   "id": "d521ad16921738a1"
  },
  {
   "metadata": {
    "ExecuteTime": {
     "end_time": "2025-04-04T01:37:50.611901Z",
     "start_time": "2025-04-04T01:37:50.609222Z"
    }
   },
   "cell_type": "code",
   "source": [
    "# 0 -> 1 -> 2\n",
    "chain_adj = np.array([[0, 1, 0], [0, 0, 1], [0, 0, 0]])\n",
    "print(labeler(chain_adj))"
   ],
   "id": "53eba65796cb7910",
   "outputs": [
    {
     "name": "stdout",
     "output_type": "stream",
     "text": [
      "[0: {collider = False, chain = False, fork = False}, 1: {collider = False, chain = True, fork = False}, 2: {collider = False, chain = False, fork = False}]\n"
     ]
    }
   ],
   "execution_count": 4
  },
  {
   "metadata": {},
   "cell_type": "markdown",
   "source": "As expected, we see from the output above that node $1$ is correctly marked as being in a chain.",
   "id": "3b2f5f7f358fa157"
  },
  {
   "metadata": {},
   "cell_type": "markdown",
   "source": "## Collider",
   "id": "98c842a3f188e83c"
  },
  {
   "metadata": {
    "ExecuteTime": {
     "end_time": "2025-04-04T01:37:54.720333Z",
     "start_time": "2025-04-04T01:37:54.717610Z"
    }
   },
   "cell_type": "code",
   "source": [
    "# 0 -> 1 <- 2\n",
    "collider_adj = np.array([[0, 1, 0], [0, 0, 0], [0, 1, 0]])\n",
    "print(labeler(collider_adj))"
   ],
   "id": "f99d04a91632be80",
   "outputs": [
    {
     "name": "stdout",
     "output_type": "stream",
     "text": [
      "[0: {collider = False, chain = False, fork = False}, 1: {collider = True, chain = False, fork = False}, 2: {collider = False, chain = False, fork = False}]\n"
     ]
    }
   ],
   "execution_count": 5
  },
  {
   "metadata": {},
   "cell_type": "markdown",
   "source": "## Fork",
   "id": "539d5138e15a10a5"
  },
  {
   "metadata": {
    "ExecuteTime": {
     "end_time": "2025-04-04T01:38:09.695021Z",
     "start_time": "2025-04-04T01:38:09.692342Z"
    }
   },
   "cell_type": "code",
   "source": [
    "# 0 -> 1\n",
    "# 0 -> 2\n",
    "fork_adj = np.array([[0, 1, 1], [0, 0, 0], [0, 0, 0]])\n",
    "print(labeler(fork_adj))"
   ],
   "id": "a16088c0a6a090a9",
   "outputs": [
    {
     "name": "stdout",
     "output_type": "stream",
     "text": [
      "[0: {collider = False, chain = False, fork = True}, 1: {collider = False, chain = False, fork = False}, 2: {collider = False, chain = False, fork = False}]\n"
     ]
    }
   ],
   "execution_count": 7
  },
  {
   "metadata": {},
   "cell_type": "markdown",
   "source": [
    "## CSuite large_backdoor_binary_t\n",
    "The below is adapted from the CSuite dataset by [Geffner et. al](https://github.com/microsoft/csuite?tab=readme-ov-file)\n",
    "![alt text](figs/sab.png \"CSuite large_backdoor\")"
   ],
   "id": "33785753ebd32474"
  },
  {
   "metadata": {
    "ExecuteTime": {
     "end_time": "2025-04-04T01:38:35.442856Z",
     "start_time": "2025-04-04T01:38:35.439063Z"
    }
   },
   "cell_type": "code",
   "source": [
    "backdoor_adj = np.array([[0, 1, 0, 1, 0], [0, 0, 1, 0, 0], [0, 0, 0, 0, 1], [0, 0, 0, 0, 1], [0, 0, 0, 0, 0]])\n",
    "print(labeler(backdoor_adj))"
   ],
   "id": "7f5455dafa3d7a95",
   "outputs": [
    {
     "name": "stdout",
     "output_type": "stream",
     "text": [
      "[0: {collider = False, chain = False, fork = True}, 1: {collider = False, chain = True, fork = False}, 2: {collider = False, chain = True, fork = False}, 3: {collider = False, chain = True, fork = False}, 4: {collider = True, chain = False, fork = False}]\n"
     ]
    }
   ],
   "execution_count": 9
  }
 ],
 "metadata": {
  "kernelspec": {
   "display_name": ".venv",
   "language": "python",
   "name": ".venv"
  },
  "language_info": {
   "codemirror_mode": {
    "name": "ipython",
    "version": 2
   },
   "file_extension": ".py",
   "mimetype": "text/x-python",
   "name": "python",
   "nbconvert_exporter": "python",
   "pygments_lexer": "ipython2",
   "version": "2.7.6"
  }
 },
 "nbformat": 4,
 "nbformat_minor": 5
}
