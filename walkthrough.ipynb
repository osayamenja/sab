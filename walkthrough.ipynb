{
 "cells": [
  {
   "metadata": {},
   "cell_type": "markdown",
   "source": "# Scalable Analysis of Bayesian Networks",
   "id": "20a2bc5e84cae554"
  },
  {
   "metadata": {},
   "cell_type": "markdown",
   "source": "We run experiments on some sample topologies.",
   "id": "d84f6641979d24"
  },
  {
   "metadata": {
    "ExecuteTime": {
     "end_time": "2025-04-04T01:41:16.925920Z",
     "start_time": "2025-04-04T01:41:16.920804Z"
    }
   },
   "cell_type": "code",
   "source": [
    "import gc\n",
    "import time\n",
    "import numpy as np\n",
    "\n",
    "from main import labeler"
   ],
   "id": "29a6b1d562f71810",
   "outputs": [],
   "execution_count": 10
  },
  {
   "metadata": {},
   "cell_type": "markdown",
   "source": [
    "## Notation for Adjacency Matrix\n",
    "Below, the adjacency matrix describes the causal DAG $G = (V, E)$, where for any row index $i \\in V$ and column index $j \\in V$,\n",
    "the tuple $(i,j) = 1$ denotes a directed edge from vertex $i$ to vertex $j$."
   ],
   "id": "35a88b1f2c508695"
  },
  {
   "metadata": {},
   "cell_type": "markdown",
   "source": "## Chain",
   "id": "d521ad16921738a1"
  },
  {
   "metadata": {
    "ExecuteTime": {
     "end_time": "2025-04-04T01:46:29.955718Z",
     "start_time": "2025-04-04T01:46:29.952963Z"
    }
   },
   "cell_type": "code",
   "source": [
    "# 0 -> 1 -> 2\n",
    "start_time = time.perf_counter()\n",
    "chain_adj = np.array([[0, 1, 0], [0, 0, 1], [0, 0, 0]])\n",
    "end_time = time.perf_counter()\n",
    "duration = (end_time - start_time) * 10e5\n",
    "print(\"Completes in {}us\".format(duration))\n",
    "print(labeler(chain_adj))"
   ],
   "id": "53eba65796cb7910",
   "outputs": [
    {
     "name": "stdout",
     "output_type": "stream",
     "text": [
      "Completes in 48.207999498117715us\n",
      "[0: {collider = False, chain = False, fork = False}, 1: {collider = False, chain = True, fork = False}, 2: {collider = False, chain = False, fork = False}]\n"
     ]
    }
   ],
   "execution_count": 42
  },
  {
   "metadata": {},
   "cell_type": "markdown",
   "source": "As expected, we see from the output above that node $1$ is correctly marked as being in a chain.",
   "id": "3b2f5f7f358fa157"
  },
  {
   "metadata": {},
   "cell_type": "markdown",
   "source": "## Collider",
   "id": "98c842a3f188e83c"
  },
  {
   "metadata": {
    "ExecuteTime": {
     "end_time": "2025-04-04T01:46:26.900279Z",
     "start_time": "2025-04-04T01:46:26.896958Z"
    }
   },
   "cell_type": "code",
   "source": [
    "# 0 -> 1 <- 2\n",
    "start_time = time.perf_counter()\n",
    "collider_adj = np.array([[0, 1, 0], [0, 0, 0], [0, 1, 0]])\n",
    "end_time = time.perf_counter()\n",
    "duration = (end_time - start_time) * 10e5\n",
    "print(\"Completes in {}us\".format(duration))\n",
    "print(labeler(collider_adj))"
   ],
   "id": "f99d04a91632be80",
   "outputs": [
    {
     "name": "stdout",
     "output_type": "stream",
     "text": [
      "Completes in 53.250005294103175us\n",
      "[0: {collider = False, chain = False, fork = False}, 1: {collider = True, chain = False, fork = False}, 2: {collider = False, chain = False, fork = False}]\n"
     ]
    }
   ],
   "execution_count": 40
  },
  {
   "metadata": {},
   "cell_type": "markdown",
   "source": "## Fork",
   "id": "539d5138e15a10a5"
  },
  {
   "metadata": {
    "ExecuteTime": {
     "end_time": "2025-04-04T01:46:22.463733Z",
     "start_time": "2025-04-04T01:46:22.461090Z"
    }
   },
   "cell_type": "code",
   "source": [
    "# 0 -> 1\n",
    "# 0 -> 2\n",
    "start_time = time.perf_counter()\n",
    "fork_adj = np.array([[0, 1, 1], [0, 0, 0], [0, 0, 0]])\n",
    "end_time = time.perf_counter()\n",
    "duration = (end_time - start_time) * 10e5\n",
    "print(\"Completes in {}us\".format(duration))\n",
    "print(labeler(fork_adj))"
   ],
   "id": "a16088c0a6a090a9",
   "outputs": [
    {
     "name": "stdout",
     "output_type": "stream",
     "text": [
      "Completes in 47.74999979417771us\n",
      "[0: {collider = False, chain = False, fork = True}, 1: {collider = False, chain = False, fork = False}, 2: {collider = False, chain = False, fork = False}]\n"
     ]
    }
   ],
   "execution_count": 38
  },
  {
   "metadata": {},
   "cell_type": "markdown",
   "source": [
    "## CSuite large_backdoor_binary_t\n",
    "The below is adapted from the CSuite dataset by [Geffner et. al](https://github.com/microsoft/csuite?tab=readme-ov-file)\n",
    "![alt text](figs/sab.png \"CSuite large_backdoor\")"
   ],
   "id": "33785753ebd32474"
  },
  {
   "metadata": {
    "ExecuteTime": {
     "end_time": "2025-04-04T01:46:33.873996Z",
     "start_time": "2025-04-04T01:46:33.871094Z"
    }
   },
   "cell_type": "code",
   "source": [
    "start_time = time.perf_counter()\n",
    "backdoor_adj = np.array([[0, 1, 0, 1, 0], [0, 0, 1, 0, 0], [0, 0, 0, 0, 1], [0, 0, 0, 0, 1], [0, 0, 0, 0, 0]])\n",
    "end_time = time.perf_counter()\n",
    "duration = (end_time - start_time) * 10e5\n",
    "print(\"Completes in {}us\".format(duration))\n",
    "print(labeler(backdoor_adj))"
   ],
   "id": "7f5455dafa3d7a95",
   "outputs": [
    {
     "name": "stdout",
     "output_type": "stream",
     "text": [
      "Completes in 63.041996327228844us\n",
      "[0: {collider = False, chain = False, fork = True}, 1: {collider = False, chain = True, fork = False}, 2: {collider = False, chain = True, fork = False}, 3: {collider = False, chain = True, fork = False}, 4: {collider = True, chain = False, fork = False}]\n"
     ]
    }
   ],
   "execution_count": 44
  }
 ],
 "metadata": {
  "kernelspec": {
   "display_name": ".venv",
   "language": "python",
   "name": ".venv"
  },
  "language_info": {
   "codemirror_mode": {
    "name": "ipython",
    "version": 2
   },
   "file_extension": ".py",
   "mimetype": "text/x-python",
   "name": "python",
   "nbconvert_exporter": "python",
   "pygments_lexer": "ipython2",
   "version": "2.7.6"
  }
 },
 "nbformat": 4,
 "nbformat_minor": 5
}
